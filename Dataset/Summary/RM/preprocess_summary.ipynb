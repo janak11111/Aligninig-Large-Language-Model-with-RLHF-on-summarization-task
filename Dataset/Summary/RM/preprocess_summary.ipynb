{
 "cells": [
  {
   "cell_type": "code",
   "execution_count": 28,
   "metadata": {},
   "outputs": [],
   "source": [
    "import json \n",
    "\n",
    "with open(\"/raid/home/rajivratn/kritarth/RLHF_Project/Dataset/Summary/RM/Summary_AI_labelling.json\", \"r\") as f:\n",
    "    data = [json.loads(line) for line in f]"
   ]
  },
  {
   "cell_type": "code",
   "execution_count": 29,
   "metadata": {},
   "outputs": [
    {
     "name": "stderr",
     "output_type": "stream",
     "text": [
      "100%|██████████| 470/470 [00:00<00:00, 152319.80it/s]\n"
     ]
    }
   ],
   "source": [
    "from tqdm import tqdm \n",
    "\n",
    "for i in tqdm(range(len(data))):\n",
    "    # print(data[i])\n",
    "    if len(data[i][\"rank\"]) == 2:\n",
    "        if data[i][\"rank\"][0] == 0:\n",
    "            data[i][\"preferred_summary\"] = data[i][\"detailed_prompt\"].split(\"Summary 1 - \")[1].split(\"Summary 2 - \")[0].strip()\n",
    "            data[i][\"rejected_summary\"] = data[i][\"detailed_prompt\"].split(\"Summary 2 - \")[1].split(\"Consider the coherence, accuracy, coverage, and overall quality of each summary and explain which one is better.\")[0].strip()\n",
    "            \n",
    "        else:\n",
    "            data[i][\"rejected_summary\"] = data[i][\"detailed_prompt\"].split(\"Summary 1 - \")[1].split(\"Summary 2 - \")[0].strip()\n",
    "            data[i][\"preferred_summary\"] = data[i][\"detailed_prompt\"].split(\"Summary 2 - \")[1].split(\"Consider the coherence, accuracy, coverage, and overall quality of each summary and explain which one is better.\")[0].strip()\n",
    "    \n",
    "    else:\n",
    "        if data[i][\"rank\"][0] == 1:\n",
    "            data[i][\"preferred_summary\"] = data[i][\"detailed_prompt\"].split(\"Summary 1 - \")[1].split(\"Summary 2 - \")[0].strip()\n",
    "            data[i][\"rejected_summary\"] = data[i][\"detailed_prompt\"].split(\"Summary 2 - \")[1].split(\"Consider the coherence, accuracy, coverage, and overall quality of each summary and explain which one is better.\")[0].strip()\n",
    "            \n",
    "        else:\n",
    "            data[i][\"rejected_summary\"] = data[i][\"detailed_prompt\"].split(\"Summary 1 - \")[1].split(\"Summary 2 - \")[0].strip()\n",
    "            data[i][\"preferred_summary\"] = data[i][\"detailed_prompt\"].split(\"Summary 2 - \")[1].split(\"Consider the coherence, accuracy, coverage, and overall quality of each summary and explain which one is better.\")[0].strip()\n",
    "    \n",
    "    "
   ]
  },
  {
   "cell_type": "code",
   "execution_count": 18,
   "metadata": {},
   "outputs": [
    {
     "name": "stdout",
     "output_type": "stream",
     "text": [
      "A good summary is a shorter piece of text that has the essence of the original. It tries to accomplish the same purpose and conveys the key information from the original post. Below we define four evaluation axes for summary quality: coherence, accuracy, coverage, and overall quality.\n",
      "\n",
      "Coherence: This axis answers the question “how coherent is the summary on its own?” A summary is coherent if it’s easy to understand when read on its own and free of English errors. A summary is not coherent if it’s difficult to understand what the summary is trying to say. Generally, it’s more important that the summary is understandable than it being free of grammar errors.\n",
      "\n",
      "Accuracy: This axis answers the question “does the factual information in the summary accurately match the post?” A summary is accurate if it doesn’t say things that aren’t in the article, it doesn’t mix up people, and generally is not misleading.\n",
      "\n",
      "Coverage: This axis answers the question “how well does the summary cover the important information in the post?” A summary has good coverage if it mentions the main information from the post that’s important to understand the situation described in the post. A summary has poor coverage if someone reading only the summary would be missing several important pieces of information about the situation in the post. A summary with good coverage should also match the purpose of the original post (e.g. to ask for advice).\n",
      "\n",
      "Overall quality: This axis answers the question “how good is the summary overall at representing the post?” This can encompass all of the above axes of quality, as well as others you feel are important. If it’s hard to find ways to make the summary better, the overall quality is good. If there are lots of different ways the summary can be made better, the overall quality is bad.\n",
      "\n",
      "You are an expert summary rater. Given a piece of text and two of its possible summaries, explain which summary best adheres to coherence, accuracy, coverage, and overall quality as defined above.\n",
      "\n",
      "Text - Concerned about my friend's health, nowhere to turn.I'm typing this shaking right now, so bear with me.\n",
      "\n",
      "My best friend of my entire life, birth to now, just called me to say his mom left his dad. But it isn't that simple, as in a regular divorce.\n",
      "\n",
      "His mom has a very obscure mental disorder, an offshoot of bipolar and schizophrenia. The medication she takes restricts her episodes to occurring every few years and they change each time. We think this is one of them, she was having some physical symptoms, but nothing we could point to. She flat out left his dad, but I don't have all the reasons now.\n",
      "\n",
      "The plot thickens, as they have 3 sons. The youngest my friend, is 18. The other 22, another 25. The 25 year old has the same disorder as his mom, and is at home recovering from the first episode he had, triggered by a separate family issue. It is very much so within the realm of possibility that my friend has the same disorder, and I'm worried for his mental health. \n",
      "\n",
      "He's expressed that he is distraught over the leaving, but feels mentally normal. I need to know how to help him. I guess that the best course of action would to not speculate on the disorder and help with the issue at hand, the grief of his parents splitting. Could somebody with experience in helping people, or dealing with divorce, please help me? I don't know what to say to him. Please, anybody, with anything help me. He's my best friend and it's killing me to see him like this.\n",
      "\n",
      "Shit, I started crying now... Dammit.\n",
      "\n",
      "EDIT: I need to include that he needs this to be a secret for now. He does not want the whole school knowing. Right now I'm the only one that knows.\n",
      "Summary 1 -  best friend's mom left him, I'm worried for his mental health.\n",
      "Summary 2 -  My best friend's mom left him for another guy, I don't know what to say or do.\n",
      "\n",
      "Consider the coherence, accuracy, coverage, and overall quality of each summary and explain which one is better.\n",
      "\n",
      "Rationale:\n"
     ]
    }
   ],
   "source": [
    "i = 8\n",
    "print(data[i][\"detailed_prompt\"])"
   ]
  },
  {
   "cell_type": "code",
   "execution_count": 19,
   "metadata": {},
   "outputs": [
    {
     "name": "stdout",
     "output_type": "stream",
     "text": [
      "best friend's mom left him, I'm worried for his mental health.\n"
     ]
    }
   ],
   "source": [
    "print(data[i][\"detailed_prompt\"].split(\"Summary 1 - \")[1].split(\"Summary 2 - \")[0].strip())"
   ]
  },
  {
   "cell_type": "code",
   "execution_count": 20,
   "metadata": {},
   "outputs": [
    {
     "name": "stdout",
     "output_type": "stream",
     "text": [
      "My best friend's mom left him for another guy, I don't know what to say or do.\n"
     ]
    }
   ],
   "source": [
    "print(data[i][\"detailed_prompt\"].split(\"Summary 2 - \")[1].split(\"Consider the coherence, accuracy, coverage, and overall quality of each summary and explain which one is better.\")[0].strip())"
   ]
  },
  {
   "cell_type": "code",
   "execution_count": null,
   "metadata": {},
   "outputs": [],
   "source": []
  }
 ],
 "metadata": {
  "kernelspec": {
   "display_name": "Copied_env_venv",
   "language": "python",
   "name": "python3"
  },
  "language_info": {
   "codemirror_mode": {
    "name": "ipython",
    "version": 3
   },
   "file_extension": ".py",
   "mimetype": "text/x-python",
   "name": "python",
   "nbconvert_exporter": "python",
   "pygments_lexer": "ipython3",
   "version": "3.8.10"
  }
 },
 "nbformat": 4,
 "nbformat_minor": 2
}
