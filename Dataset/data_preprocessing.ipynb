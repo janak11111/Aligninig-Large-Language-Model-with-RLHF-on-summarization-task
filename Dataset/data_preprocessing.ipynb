{
 "cells": [
  {
   "cell_type": "markdown",
   "metadata": {},
   "source": [
    "# Processing SUMMARY dataset"
   ]
  },
  {
   "cell_type": "markdown",
   "metadata": {},
   "source": [
    "## SFT Dataset"
   ]
  },
  {
   "cell_type": "code",
   "execution_count": 1,
   "metadata": {},
   "outputs": [],
   "source": [
    "import json \n",
    "\n",
    "def load_dataset(DATA_PATH):\n",
    "    with open(DATA_PATH) as f:\n",
    "        data = []\n",
    "        \n",
    "        for line in f:\n",
    "            data.append(json.loads(line))\n",
    "            \n",
    "    return data \n",
    "    \n",
    "# data = load_dataset('json', data_files=SFT_DATA_PATH)"
   ]
  },
  {
   "cell_type": "code",
   "execution_count": 2,
   "metadata": {},
   "outputs": [],
   "source": [
    "data1 = load_dataset(\"/raid/home/rajivratn/kritarth/RLHF_Project/azcopy_linux_amd64_10.2.1/axis_evals/tldraxis1.json\")\n",
    "data2 = load_dataset(\"/raid/home/rajivratn/kritarth/RLHF_Project/azcopy_linux_amd64_10.2.1/axis_evals/tldraxis2.json\")"
   ]
  },
  {
   "cell_type": "code",
   "execution_count": 3,
   "metadata": {},
   "outputs": [],
   "source": [
    "data = data1 + data2"
   ]
  },
  {
   "cell_type": "code",
   "execution_count": 4,
   "metadata": {},
   "outputs": [
    {
     "data": {
      "text/plain": [
       "8585"
      ]
     },
     "execution_count": 4,
     "metadata": {},
     "output_type": "execute_result"
    }
   ],
   "source": [
    "len(data)"
   ]
  },
  {
   "cell_type": "code",
   "execution_count": 5,
   "metadata": {},
   "outputs": [
    {
     "data": {
      "text/plain": [
       "{'info': {'id': 't3_4l0bal',\n",
       "  'post': \"Recently, my fiance  (20 m) and I (19f) moved into a new apartment with a mutual friend (20m) and somehow contracted scabies (don't know how). We've both been itchy af and have been to the doctor who confirmed that it was scabies for the both of us. Our room mate (20m) has not had symptoms of scabies bites appear yet but I have asked him to get treated as well and to treat his clothes and linen so that our apartment does not get reinfested after treatment.\\n\\nMy room mate refuses to buy the lotion needed to kill the mites on his skin (if there are any on him) and refuses to rewash and dry his linen and clothes. I'm scared that if he does not get treated the infestation of our apartment will not go away. I'm almost there to asking him to move out if he refuses treatment . He is not on the lease.\",\n",
       "  'title': '19f with fiance 20m and roommate 19m- fiance and I recently got infected with scabies and have started treatment, roommate refuses',\n",
       "  'subreddit': 'relationship_advice'},\n",
       " 'split': 'valid2',\n",
       " 'summary': {'text': \" my fiance and I refuse to treat our room mate's clothes and linens despite him refusing to buy the lotion and to treat his own clothes.\",\n",
       "  'policy': 'pretrain_6b_t.7',\n",
       "  'note': None,\n",
       "  'axes': {'overall': '4',\n",
       "   'accuracy': '4',\n",
       "   'coverage': '4',\n",
       "   'coherence': '7'}},\n",
       " 'worker': 'iL7GfrbN2PeB3KInidqSxUdxYcTZmG',\n",
       " 'batch': 'tldraxis1'}"
      ]
     },
     "execution_count": 5,
     "metadata": {},
     "output_type": "execute_result"
    }
   ],
   "source": [
    "data[1]"
   ]
  },
  {
   "cell_type": "code",
   "execution_count": 6,
   "metadata": {},
   "outputs": [
    {
     "name": "stderr",
     "output_type": "stream",
     "text": [
      "100%|██████████| 8585/8585 [00:00<00:00, 632853.52it/s]\n"
     ]
    }
   ],
   "source": [
    "from tqdm import tqdm \n",
    "\n",
    "\n",
    "new_dataset = []\n",
    "\n",
    "for i in tqdm(range(len(data))):\n",
    "    obj = {\n",
    "        \"id\": data[i][\"info\"][\"id\"],\n",
    "        \"title\": data[i][\"info\"][\"title\"],\n",
    "        \"post\": data[i][\"info\"][\"post\"],\n",
    "        \"summary\": data[i][\"summary\"][\"text\"]\n",
    "    }\n",
    "    \n",
    "    new_dataset.append(obj)"
   ]
  },
  {
   "cell_type": "code",
   "execution_count": 13,
   "metadata": {},
   "outputs": [
    {
     "data": {
      "text/plain": [
       "{'id': 't3_4l0bal',\n",
       " 'title': '19f with fiance 20m and roommate 19m- fiance and I recently got infected with scabies and have started treatment, roommate refuses',\n",
       " 'post': \"Recently, my fiance  (20 m) and I (19f) moved into a new apartment with a mutual friend (20m) and somehow contracted scabies (don't know how). We've both been itchy af and have been to the doctor who confirmed that it was scabies for the both of us. Our room mate (20m) has not had symptoms of scabies bites appear yet but I have asked him to get treated as well and to treat his clothes and linen so that our apartment does not get reinfested after treatment.\\n\\nMy room mate refuses to buy the lotion needed to kill the mites on his skin (if there are any on him) and refuses to rewash and dry his linen and clothes. I'm scared that if he does not get treated the infestation of our apartment will not go away. I'm almost there to asking him to move out if he refuses treatment . He is not on the lease.\",\n",
       " 'summary': \" Fiance and I recently got infected with scabies. Room mate refuses to get treated and our apartment will not go away. I'm afraid he will leave if he doesn't. Should I ask him to leave?\"}"
      ]
     },
     "execution_count": 13,
     "metadata": {},
     "output_type": "execute_result"
    }
   ],
   "source": []
  },
  {
   "cell_type": "code",
   "execution_count": 7,
   "metadata": {},
   "outputs": [],
   "source": [
    "import random\n",
    "\n",
    "def split_dataset(dataset, train_size=0.8, val_size=0.1, test_size=0.1):\n",
    "    if train_size + val_size + test_size != 1.0:\n",
    "        raise ValueError(\"The sum of train_size, val_size, and test_size must be 1.0\")\n",
    "\n",
    "    random.shuffle(dataset)  \n",
    "\n",
    "    train_end = int(train_size * len(dataset))\n",
    "    val_end = train_end + int(val_size * len(dataset))\n",
    "\n",
    "    train_set = dataset[:train_end]\n",
    "    val_set = dataset[train_end:val_end]\n",
    "    test_set = dataset[val_end:]\n",
    "\n",
    "    return train_set, val_set, test_set\n",
    "\n",
    "\n",
    "train_set, val_set, test_set = split_dataset(new_dataset)\n"
   ]
  },
  {
   "cell_type": "code",
   "execution_count": 8,
   "metadata": {},
   "outputs": [
    {
     "data": {
      "text/plain": [
       "(6868, 858, 859)"
      ]
     },
     "execution_count": 8,
     "metadata": {},
     "output_type": "execute_result"
    }
   ],
   "source": [
    "len(train_set), len(val_set), len(test_set)"
   ]
  },
  {
   "cell_type": "code",
   "execution_count": 9,
   "metadata": {},
   "outputs": [],
   "source": [
    "def save_data(PATH_DIR, name, dataset):\n",
    "    with open(PATH_DIR + name + \".json\", \"w\") as f:\n",
    "        json.dump(dataset, f, indent=2)\n",
    "        \n",
    "PATH_DIR = \"/raid/home/rajivratn/kritarth/RLHF_Project/Dataset/Summary/SFT/\"\n",
    "save_data(PATH_DIR, \"train\", train_set)\n",
    "save_data(PATH_DIR, \"val\", val_set)\n",
    "save_data(PATH_DIR, \"test\", test_set)\n",
    "\n",
    "save_data(PATH_DIR, \"sample_train\", train_set[:100])\n",
    "save_data(PATH_DIR, \"sample_val\", val_set[:100])\n",
    "save_data(PATH_DIR, \"sample_test\", test_set[:100])"
   ]
  },
  {
   "cell_type": "markdown",
   "metadata": {},
   "source": [
    "## RM dataset"
   ]
  },
  {
   "cell_type": "code",
   "execution_count": 10,
   "metadata": {},
   "outputs": [],
   "source": [
    "data = load_dataset(\"/raid/home/rajivratn/kritarth/RLHF_Project/azcopy_linux_amd64_10.2.1/comparisons/batch3.json\")"
   ]
  },
  {
   "cell_type": "code",
   "execution_count": 11,
   "metadata": {},
   "outputs": [
    {
     "name": "stderr",
     "output_type": "stream",
     "text": [
      "100%|██████████| 15600/15600 [00:00<00:00, 591270.20it/s]\n"
     ]
    }
   ],
   "source": [
    "from tqdm import tqdm \n",
    "\n",
    "new_dataset = []\n",
    "for i in tqdm(range(len(data))):\n",
    "    obj = {\n",
    "        \"id\": data[i][\"info\"][\"id\"],\n",
    "        \"title\": data[i][\"info\"][\"title\"],\n",
    "        \"post\": data[i][\"info\"][\"post\"],\n",
    "        \"preferred_summary\": data[i][\"summaries\"][data[i][\"choice\"]][\"text\"],\n",
    "        \"rejected_summary\": data[i][\"summaries\"][1 - data[i][\"choice\"]][\"text\"],\n",
    "    }\n",
    "    \n",
    "    new_dataset.append(obj)"
   ]
  },
  {
   "cell_type": "code",
   "execution_count": 12,
   "metadata": {},
   "outputs": [
    {
     "data": {
      "text/plain": [
       "{'id': 't3_34xale',\n",
       " 'title': 'Mother [51] not speaking to me [21] because of a trip I am planning',\n",
       " 'post': \"My boyfriend and I are long distance. We have a trip planned this summer which involves me going over to him in the USA. This will be the second time I have actually been with him in person. I am flying from the UK with my mum to the east coast. The original plan was for me to fly over to my boyfriend in the west coast (my parents are holidaying on the east coast) but because my mum was freaking out so much about me going to meet my boyfriend i said we can all road trip there together. I even invited her on the trip with us. I have given her all of our dates so that she can travel around with us.\\n\\nThe plan was for me to stay on the 4th July and fly back on the 5th. Mum knew this. I told her I had booked a flight back already from the west coast to east coast (where she would pick me up and we would fly back to the UK together). She has gone mad at me because she can't believe I would book a flight when she told me she didn't want me flying on my own. At the time I had booked it she told me she wasn't gonna road trip with us. She knew the trip was happening.......how else was I to get home if I don't fly? \\n\\nI am fine flying on my own it doesn't bother me at all. I feel like I have done everything I can to make her feel comfortable with this trip and she is just trying to sabotage it. Thoughts??\",\n",
       " 'preferred_summary': ' I have made sure my mother is comfortable with my boyfriend travelling on a trip and now my mother is mad because I booked it.',\n",
       " 'rejected_summary': ' Mum is mad at me for not flying on my own trip to meet my boyfriend.'}"
      ]
     },
     "execution_count": 12,
     "metadata": {},
     "output_type": "execute_result"
    }
   ],
   "source": [
    "new_dataset[0]"
   ]
  },
  {
   "cell_type": "code",
   "execution_count": 13,
   "metadata": {},
   "outputs": [],
   "source": [
    "train_set, val_set, test_set = split_dataset(new_dataset)"
   ]
  },
  {
   "cell_type": "code",
   "execution_count": 14,
   "metadata": {},
   "outputs": [],
   "source": [
    "PATH_DIR = \"/raid/home/rajivratn/kritarth/RLHF_Project/Dataset/Summary/RM/\"\n",
    "save_data(PATH_DIR, \"train\", train_set)\n",
    "save_data(PATH_DIR, \"val\", val_set)\n",
    "save_data(PATH_DIR, \"test\", test_set)\n",
    "\n",
    "save_data(PATH_DIR, \"sample_train\", train_set[:100])\n",
    "save_data(PATH_DIR, \"sample_val\", val_set[:100])\n",
    "save_data(PATH_DIR, \"sample_test\", test_set[:100])"
   ]
  },
  {
   "cell_type": "markdown",
   "metadata": {},
   "source": [
    "# Conversation Dataset"
   ]
  },
  {
   "cell_type": "markdown",
   "metadata": {},
   "source": [
    "## SFT Dataset"
   ]
  },
  {
   "cell_type": "code",
   "execution_count": 15,
   "metadata": {},
   "outputs": [
    {
     "name": "stderr",
     "output_type": "stream",
     "text": [
      "100%|██████████| 20000/20000 [00:00<00:00, 23488.97it/s]\n"
     ]
    }
   ],
   "source": [
    "import json \n",
    "from datasets import load_dataset \n",
    "\n",
    "sft_data = load_dataset(\"Dahoas/sft_instruct_helpful_preferences\")\n",
    "\n",
    "new_dataset = []\n",
    "for i in tqdm(range(len(sft_data[\"train\"]))):\n",
    "    new_dataset.append(sft_data[\"train\"][i]) \n"
   ]
  },
  {
   "cell_type": "code",
   "execution_count": 16,
   "metadata": {},
   "outputs": [],
   "source": [
    "train_set, val_set, test_set = split_dataset(new_dataset)\n",
    "\n",
    "PATH_DIR = \"/raid/home/rajivratn/kritarth/RLHF_Project/Dataset/Conversation/SFT/\"\n",
    "save_data(PATH_DIR, \"train\", train_set)\n",
    "save_data(PATH_DIR, \"val\", val_set)\n",
    "save_data(PATH_DIR, \"test\", test_set)\n",
    "\n",
    "save_data(PATH_DIR, \"sample_train\", train_set[:100])\n",
    "save_data(PATH_DIR, \"sample_val\", val_set[:100])\n",
    "save_data(PATH_DIR, \"sample_test\", test_set[:100])"
   ]
  },
  {
   "cell_type": "markdown",
   "metadata": {},
   "source": [
    "## RM dataset"
   ]
  },
  {
   "cell_type": "code",
   "execution_count": 17,
   "metadata": {},
   "outputs": [
    {
     "name": "stderr",
     "output_type": "stream",
     "text": [
      "100%|██████████| 85161/85161 [00:04<00:00, 17343.93it/s]\n"
     ]
    }
   ],
   "source": [
    "from datasets import load_dataset \n",
    "\n",
    "rm_data = load_dataset(\"Dahoas/rm_instruct_helpful_preferences\")\n",
    "\n",
    "new_dataset = []\n",
    "\n",
    "for i in tqdm(range(len(rm_data[\"train\"]))):\n",
    "    new_dataset.append(rm_data[\"train\"][i])"
   ]
  },
  {
   "cell_type": "code",
   "execution_count": 18,
   "metadata": {},
   "outputs": [],
   "source": [
    "train_set, val_set, test_set = split_dataset(new_dataset)\n",
    "\n",
    "PATH_DIR = \"/raid/home/rajivratn/kritarth/RLHF_Project/Dataset/Conversation/RM/\"\n",
    "save_data(PATH_DIR, \"train\", train_set)\n",
    "save_data(PATH_DIR, \"val\", val_set)\n",
    "save_data(PATH_DIR, \"test\", test_set)\n",
    "\n",
    "save_data(PATH_DIR, \"sample_train\", train_set[:100])\n",
    "save_data(PATH_DIR, \"sample_val\", val_set[:100])\n",
    "save_data(PATH_DIR, \"sample_test\", test_set[:100])"
   ]
  },
  {
   "cell_type": "code",
   "execution_count": null,
   "metadata": {},
   "outputs": [],
   "source": [
    "# END!"
   ]
  }
 ],
 "metadata": {
  "kernelspec": {
   "display_name": "Copied_env_venv",
   "language": "python",
   "name": "python3"
  },
  "language_info": {
   "codemirror_mode": {
    "name": "ipython",
    "version": 3
   },
   "file_extension": ".py",
   "mimetype": "text/x-python",
   "name": "python",
   "nbconvert_exporter": "python",
   "pygments_lexer": "ipython3",
   "version": "3.8.10"
  }
 },
 "nbformat": 4,
 "nbformat_minor": 2
}
