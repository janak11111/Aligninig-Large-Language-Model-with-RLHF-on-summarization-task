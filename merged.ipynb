{
 "cells": [
  {
   "cell_type": "code",
   "execution_count": 1,
   "metadata": {},
   "outputs": [
    {
     "name": "stderr",
     "output_type": "stream",
     "text": [
      "[nltk_data] Error loading punkt: <urlopen error [Errno 104] Connection\n",
      "[nltk_data]     reset by peer>\n"
     ]
    }
   ],
   "source": [
    "import os\n",
    "import torch\n",
    "os.environ['CUDA_DEVICE_ORDER'] = 'PCI_BUS_ID'\n",
    "os.environ[\"CUDA_VISIBLE_DEVICES\"] = \"1,2,3\" # exclude GPU 4\n",
    "\n",
    "torch.cuda.device_count()\n",
    "available_gpus = [torch.cuda.get_device_properties(i) for i in range(torch.cuda.device_count())]\n",
    "device = torch.cuda.current_device()"
   ]
  },
  {
   "cell_type": "code",
   "execution_count": 2,
   "metadata": {},
   "outputs": [
    {
     "data": {
      "application/vnd.jupyter.widget-view+json": {
       "model_id": "3943f2598a174e45819a01ba0f9497e4",
       "version_major": 2,
       "version_minor": 0
      },
      "text/plain": [
       "Loading checkpoint shards:   0%|          | 0/3 [00:00<?, ?it/s]"
      ]
     },
     "metadata": {},
     "output_type": "display_data"
    },
    {
     "data": {
      "text/plain": [
       "('/raid/home/rajivratn/kritarth/RLHF_Project/TRAIN/PPO/MERGED/LLAMA-2-7B_PPO_RLAIF_CONVERSATION/tokenizer_config.json',\n",
       " '/raid/home/rajivratn/kritarth/RLHF_Project/TRAIN/PPO/MERGED/LLAMA-2-7B_PPO_RLAIF_CONVERSATION/special_tokens_map.json',\n",
       " '/raid/home/rajivratn/kritarth/RLHF_Project/TRAIN/PPO/MERGED/LLAMA-2-7B_PPO_RLAIF_CONVERSATION/tokenizer.model',\n",
       " '/raid/home/rajivratn/kritarth/RLHF_Project/TRAIN/PPO/MERGED/LLAMA-2-7B_PPO_RLAIF_CONVERSATION/added_tokens.json',\n",
       " '/raid/home/rajivratn/kritarth/RLHF_Project/TRAIN/PPO/MERGED/LLAMA-2-7B_PPO_RLAIF_CONVERSATION/tokenizer.json')"
      ]
     },
     "execution_count": 2,
     "metadata": {},
     "output_type": "execute_result"
    },
    {
     "ename": "",
     "evalue": "",
     "output_type": "error",
     "traceback": [
      "\u001b[1;31mThe Kernel crashed while executing code in the the current cell or a previous cell. Please review the code in the cell(s) to identify a possible cause of the failure. Click <a href='https://aka.ms/vscodeJupyterKernelCrash'>here</a> for more info. View Jupyter <a href='command:jupyter.viewOutput'>log</a> for further details."
     ]
    }
   ],
   "source": [
    "import argparse\n",
    "import bitsandbytes as bnb\n",
    "from datasets import load_dataset\n",
    "from functools import partial\n",
    "import os\n",
    "from peft import LoraConfig, get_peft_model, prepare_model_for_kbit_training, AutoPeftModelForCausalLM\n",
    "import torch\n",
    "from transformers import AutoModelForCausalLM, AutoTokenizer, set_seed, Trainer, TrainingArguments, BitsAndBytesConfig, \\\n",
    "    DataCollatorForLanguageModeling, Trainer, TrainingArguments\n",
    "from datasets import load_dataset\n",
    "\n",
    "\n",
    "\n",
    "model_name = \"NousResearch/Llama-2-7b-hf\" \n",
    "\n",
    "model = AutoPeftModelForCausalLM.from_pretrained(\"/raid/home/rajivratn/kritarth/RLHF_Project/TRAIN/PPO/LLAMA_2_PPO_CONVERSATION_RLAIF/epoch_0/step_240\", device_map=\"auto\")\n",
    "model = model.merge_and_unload()\n",
    "\n",
    "output_merged_dir = \"/raid/home/rajivratn/kritarth/RLHF_Project/TRAIN/PPO/MERGED/LLAMA-2-7B_PPO_RLAIF_CONVERSATION\"\n",
    "os.makedirs(output_merged_dir, exist_ok=True)\n",
    "model.save_pretrained(output_merged_dir)\n",
    "# model.save_pretrained(output_merged_dir)\n",
    "tokenizer = AutoTokenizer.from_pretrained(model_name)\n",
    "tokenizer.save_pretrained(output_merged_dir)"
   ]
  },
  {
   "cell_type": "code",
   "execution_count": null,
   "metadata": {},
   "outputs": [],
   "source": []
  }
 ],
 "metadata": {
  "kernelspec": {
   "display_name": "Copied_env_venv",
   "language": "python",
   "name": "python3"
  },
  "language_info": {
   "codemirror_mode": {
    "name": "ipython",
    "version": 3
   },
   "file_extension": ".py",
   "mimetype": "text/x-python",
   "name": "python",
   "nbconvert_exporter": "python",
   "pygments_lexer": "ipython3",
   "version": "3.8.10"
  }
 },
 "nbformat": 4,
 "nbformat_minor": 2
}
